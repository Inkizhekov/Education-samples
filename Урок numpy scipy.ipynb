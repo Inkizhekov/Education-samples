{
 "cells": [
  {
   "cell_type": "code",
   "execution_count": 209,
   "id": "ed7322e1",
   "metadata": {},
   "outputs": [
    {
     "ename": "ModuleNotFoundError",
     "evalue": "No module named 'Tester'",
     "output_type": "error",
     "traceback": [
      "\u001b[1;31m---------------------------------------------------------------------------\u001b[0m",
      "\u001b[1;31mModuleNotFoundError\u001b[0m                       Traceback (most recent call last)",
      "Input \u001b[1;32mIn [209]\u001b[0m, in \u001b[0;36m<cell line: 3>\u001b[1;34m()\u001b[0m\n\u001b[0;32m      1\u001b[0m \u001b[38;5;28;01mimport\u001b[39;00m \u001b[38;5;21;01mnumpy\u001b[39;00m \u001b[38;5;28;01mas\u001b[39;00m \u001b[38;5;21;01mnp\u001b[39;00m\n\u001b[0;32m      2\u001b[0m \u001b[38;5;28;01mimport\u001b[39;00m \u001b[38;5;21;01mtimeit\u001b[39;00m\n\u001b[1;32m----> 3\u001b[0m \u001b[38;5;28;01mimport\u001b[39;00m \u001b[38;5;21;01mTester\u001b[39;00m\n",
      "\u001b[1;31mModuleNotFoundError\u001b[0m: No module named 'Tester'"
     ]
    }
   ],
   "source": [
    "import numpy as np\n",
    "import timeit\n"
   ]
  },
  {
   "cell_type": "code",
   "execution_count": null,
   "id": "9789852f",
   "metadata": {},
   "outputs": [],
   "source": [
    "#array[start=0:stop=len(arrray)-1:step=1]"
   ]
  },
  {
   "cell_type": "code",
   "execution_count": 2,
   "id": "eff58cee",
   "metadata": {},
   "outputs": [
    {
     "data": {
      "text/plain": [
       "array([ 0,  1,  2,  3,  4,  5,  6,  7,  8,  9, 10, 11, 12, 13, 14])"
      ]
     },
     "execution_count": 2,
     "metadata": {},
     "output_type": "execute_result"
    }
   ],
   "source": [
    "a = np.arange(15)\n",
    "a"
   ]
  },
  {
   "cell_type": "code",
   "execution_count": 5,
   "id": "b22b6baa",
   "metadata": {},
   "outputs": [
    {
     "data": {
      "text/plain": [
       "[array([0, 1, 2, 3, 4]), array([0, 1, 2, 3, 4]), array([0, 1, 2, 3, 4])]"
      ]
     },
     "execution_count": 5,
     "metadata": {},
     "output_type": "execute_result"
    }
   ],
   "source": [
    "variants = [ a[0:5:1], a[0:5], a[:5]]\n",
    "variants"
   ]
  },
  {
   "cell_type": "code",
   "execution_count": 11,
   "id": "48d1cbb1",
   "metadata": {},
   "outputs": [
    {
     "data": {
      "text/plain": [
       "[array([0, 1, 2, 3, 4]), array([0, 1, 2, 3, 4]), array([0, 1, 2, 3, 4])]"
      ]
     },
     "execution_count": 11,
     "metadata": {},
     "output_type": "execute_result"
    }
   ],
   "source": [
    "variants = [ a[slice(0, 5, 1)], a[slice(0,5)], a[slice(5)]]\n",
    "variants           "
   ]
  },
  {
   "cell_type": "code",
   "execution_count": 12,
   "id": "b1ac5a3a",
   "metadata": {},
   "outputs": [
    {
     "data": {
      "text/plain": [
       "[array([ 0,  2,  4,  6,  8, 10, 12, 14]),\n",
       " array([ 0,  2,  4,  6,  8, 10, 12, 14]),\n",
       " array([ 0,  2,  4,  6,  8, 10, 12, 14])]"
      ]
     },
     "execution_count": 12,
     "metadata": {},
     "output_type": "execute_result"
    }
   ],
   "source": [
    "variants = [ a[0:len(a):2], a[0::2], a[::2]]\n",
    "variants   "
   ]
  },
  {
   "cell_type": "code",
   "execution_count": 14,
   "id": "6e44999a",
   "metadata": {},
   "outputs": [
    {
     "data": {
      "text/plain": [
       "[array([ 1,  3,  5,  7,  9, 11, 13]), array([ 1,  3,  5,  7,  9, 11, 13])]"
      ]
     },
     "execution_count": 14,
     "metadata": {},
     "output_type": "execute_result"
    }
   ],
   "source": [
    "variants = [ a[1:len(a):2], a[1::2] ]\n",
    "variants   "
   ]
  },
  {
   "cell_type": "code",
   "execution_count": 15,
   "id": "51aa02c2",
   "metadata": {},
   "outputs": [
    {
     "data": {
      "text/plain": [
       "[array([3, 6, 9]), array([3, 6, 9])]"
      ]
     },
     "execution_count": 15,
     "metadata": {},
     "output_type": "execute_result"
    }
   ],
   "source": [
    "variants = [ a[3:12:3], a[3:-3:3]]\n",
    "variants   "
   ]
  },
  {
   "cell_type": "code",
   "execution_count": 16,
   "id": "b6a8e160",
   "metadata": {},
   "outputs": [
    {
     "data": {
      "text/plain": [
       "[array([ 1,  3,  5,  7,  9, 11, 13]), array([ 1,  3,  5,  7,  9, 11, 13])]"
      ]
     },
     "execution_count": 16,
     "metadata": {},
     "output_type": "execute_result"
    }
   ],
   "source": [
    "variants = [ a[1:len(a):2], a[1::2] ]\n",
    "variants   "
   ]
  },
  {
   "cell_type": "code",
   "execution_count": 17,
   "id": "f2ae3379",
   "metadata": {},
   "outputs": [
    {
     "data": {
      "text/plain": [
       "[array([12,  9,  6,  3]), array([12,  9,  6,  3]), array([12,  9,  6,  3])]"
      ]
     },
     "execution_count": 17,
     "metadata": {},
     "output_type": "execute_result"
    }
   ],
   "source": [
    "variants = [ a[3:13:3][::-1], a[12:2:-3], a[-3:2:-3]]\n",
    "variants   "
   ]
  },
  {
   "cell_type": "code",
   "execution_count": 21,
   "id": "fb6f1443",
   "metadata": {},
   "outputs": [
    {
     "data": {
      "text/plain": [
       "((array([False,  True,  True, False,  True]),),\n",
       " array([1, 2, 3, 4, 5]),\n",
       " array([2, 3, 5]))"
      ]
     },
     "execution_count": 21,
     "metadata": {},
     "output_type": "execute_result"
    }
   ],
   "source": [
    "a = np.array ([1,2,3,4,5])\n",
    "mask = np.array ([False, True, True, False, True]),\n",
    "mask, a, a[mask]"
   ]
  },
  {
   "cell_type": "code",
   "execution_count": 24,
   "id": "222b919f",
   "metadata": {},
   "outputs": [
    {
     "data": {
      "text/plain": [
       "array([-1, -1,  3, -1, -2, -2,  1,  0, -2,  5,  6,  5, -1,  0,  1,  3, -2,\n",
       "        3,  3,  1, -2,  4,  4,  3,  4,  2,  2, -1, -2, -1,  6,  5, -2, -1])"
      ]
     },
     "execution_count": 24,
     "metadata": {},
     "output_type": "execute_result"
    }
   ],
   "source": [
    "np.random.seed (1024)\n",
    "\n",
    "a = np.random.randint (-2,7,34)\n",
    "a"
   ]
  },
  {
   "cell_type": "code",
   "execution_count": 25,
   "id": "b5d0b24a",
   "metadata": {},
   "outputs": [
    {
     "data": {
      "text/plain": [
       "array([-1, -1, -1, -2, -2, -2, -1, -2, -2, -1, -2, -1, -2, -1])"
      ]
     },
     "execution_count": 25,
     "metadata": {},
     "output_type": "execute_result"
    }
   ],
   "source": [
    "a [a < 0]"
   ]
  },
  {
   "cell_type": "code",
   "execution_count": 26,
   "id": "692899e5",
   "metadata": {},
   "outputs": [
    {
     "data": {
      "text/plain": [
       "[array([3, 0, 6, 0, 3, 3, 3, 3, 6]),\n",
       " array([3, 0, 6, 0, 3, 3, 3, 3, 6]),\n",
       " array([3, 0, 6, 0, 3, 3, 3, 3, 6])]"
      ]
     },
     "execution_count": 26,
     "metadata": {},
     "output_type": "execute_result"
    }
   ],
   "source": [
    "variants = [a[a % 3 == 0],\n",
    "           a[np.logical_not(a % 3)],\n",
    "           a[~((a % 3).astype(bool))]]\n",
    "variants"
   ]
  },
  {
   "cell_type": "code",
   "execution_count": 27,
   "id": "93125f9d",
   "metadata": {},
   "outputs": [
    {
     "data": {
      "text/plain": [
       "array([1, 1, 5, 1, 0, 0, 3, 2, 0, 7, 8, 7, 1, 2, 3, 5, 0, 5, 5, 3, 0, 6,\n",
       "       6])"
      ]
     },
     "execution_count": 27,
     "metadata": {},
     "output_type": "execute_result"
    }
   ],
   "source": [
    "np.random.seed(1024)\n",
    "\n",
    "a = np.random.randint(0, 9, 23)\n",
    "a"
   ]
  },
  {
   "cell_type": "code",
   "execution_count": 30,
   "id": "86fcccc4",
   "metadata": {},
   "outputs": [
    {
     "data": {
      "text/plain": [
       "(array([False, False, False, False,  True,  True,  True, False,  True,\n",
       "        False, False, False, False, False,  True, False,  True, False,\n",
       "        False,  True,  True,  True,  True]),\n",
       " array([False, False,  True, False,  True,  True, False, False,  True,\n",
       "        False, False, False, False, False, False,  True,  True,  True,\n",
       "         True, False,  True, False, False]),\n",
       " [array([5, 0, 0, 3, 0, 3, 5, 0, 5, 5, 3, 0, 6, 6]),\n",
       "  array([5, 0, 0, 3, 0, 3, 5, 0, 5, 5, 3, 0, 6, 6])])"
      ]
     },
     "execution_count": 30,
     "metadata": {},
     "output_type": "execute_result"
    }
   ],
   "source": [
    "mask_3 = a % 3 == 0\n",
    "mask_5 = a % 5 == 0\n",
    "\n",
    "variants = [a[np.logical_or (mask_3, mask_5)],\n",
    "            a[mask_3 | mask_5]]\n",
    "\n",
    "mask_3, mask_5, variants"
   ]
  },
  {
   "cell_type": "code",
   "execution_count": 31,
   "id": "da4aaf91",
   "metadata": {
    "scrolled": true
   },
   "outputs": [
    {
     "data": {
      "text/plain": [
       "(array([False,  True,  True, False,  True]), (array([1, 2, 4], dtype=int64),))"
      ]
     },
     "execution_count": 31,
     "metadata": {},
     "output_type": "execute_result"
    }
   ],
   "source": [
    "mask = np.array ([False, True, True, False, True])\n",
    "\n",
    "mask, np.where(mask\n",
    "              )"
   ]
  },
  {
   "cell_type": "code",
   "execution_count": 32,
   "id": "9d60a14f",
   "metadata": {},
   "outputs": [
    {
     "data": {
      "text/plain": [
       "(array([ 0,  1,  2,  3,  6,  7,  9, 10, 11, 12, 13, 14, 15, 17, 18, 19, 21,\n",
       "        22], dtype=int64),)"
      ]
     },
     "execution_count": 32,
     "metadata": {},
     "output_type": "execute_result"
    }
   ],
   "source": [
    "np.where(a > 0)"
   ]
  },
  {
   "cell_type": "code",
   "execution_count": 33,
   "id": "59e837d7",
   "metadata": {},
   "outputs": [
    {
     "data": {
      "text/plain": [
       "array([1, 1, 5, 1, 3, 2, 7, 8, 7, 1, 2, 3, 5, 5, 5, 3, 6, 6])"
      ]
     },
     "execution_count": 33,
     "metadata": {},
     "output_type": "execute_result"
    }
   ],
   "source": [
    "a [np.where (a > 0)]"
   ]
  },
  {
   "cell_type": "code",
   "execution_count": 4,
   "id": "13938dd3",
   "metadata": {},
   "outputs": [
    {
     "data": {
      "text/plain": [
       "array([0.        , 1.        , 1.41421356])"
      ]
     },
     "execution_count": 4,
     "metadata": {},
     "output_type": "execute_result"
    }
   ],
   "source": [
    "np.sqrt(np.arange(3))\n"
   ]
  },
  {
   "cell_type": "code",
   "execution_count": 6,
   "id": "ab7eeb72",
   "metadata": {},
   "outputs": [
    {
     "data": {
      "text/plain": [
       "1.4142135623730951"
      ]
     },
     "execution_count": 6,
     "metadata": {},
     "output_type": "execute_result"
    }
   ],
   "source": [
    "np.sqrt(2)"
   ]
  },
  {
   "cell_type": "code",
   "execution_count": 8,
   "id": "5ecdebff",
   "metadata": {},
   "outputs": [
    {
     "data": {
      "text/plain": [
       "(array([[[ 0,  1,  2,  3],\n",
       "         [ 4,  5,  6,  7],\n",
       "         [ 8,  9, 10, 11]],\n",
       " \n",
       "        [[12, 13, 14, 15],\n",
       "         [16, 17, 18, 19],\n",
       "         [20, 21, 22, 23]],\n",
       " \n",
       "        [[24, 25, 26, 27],\n",
       "         [28, 29, 30, 31],\n",
       "         [32, 33, 34, 35]],\n",
       " \n",
       "        [[36, 37, 38, 39],\n",
       "         [40, 41, 42, 43],\n",
       "         [44, 45, 46, 47]]]),\n",
       " (4, 3, 4),\n",
       " 3,\n",
       " dtype('int32'))"
      ]
     },
     "execution_count": 8,
     "metadata": {},
     "output_type": "execute_result"
    }
   ],
   "source": [
    "a = np.array(\n",
    "    [\n",
    "            [\n",
    "                \n",
    "                [ 0,  1,  2,   3],\n",
    "                [ 4,  5,  6,   7],\n",
    "                [ 8,  9,  10, 11]\n",
    "            ],\n",
    "            [   [ 12, 13, 14, 15],\n",
    "                [ 16, 17, 18, 19],\n",
    "                [ 20, 21, 22, 23]\n",
    "            ],\n",
    "            [   [ 24, 25, 26, 27],\n",
    "                [ 28, 29, 30, 31],\n",
    "                [ 32, 33, 34, 35]\n",
    "            ],\n",
    "            [   [ 36, 37, 38, 39],\n",
    "                [ 40, 41, 42, 43],\n",
    "                [ 44, 45, 46, 47]\n",
    "            ],\n",
    "    ])\n",
    "a, a.shape, a.ndim, a.dtype"
   ]
  },
  {
   "cell_type": "code",
   "execution_count": 10,
   "id": "54b703ee",
   "metadata": {
    "scrolled": true
   },
   "outputs": [
    {
     "data": {
      "text/plain": [
       "array([[ 0,  1,  2,  3,  4,  5],\n",
       "       [ 6,  7,  8,  9, 10, 11],\n",
       "       [12, 13, 14, 15, 16, 17],\n",
       "       [18, 19, 20, 21, 22, 23],\n",
       "       [24, 25, 26, 27, 28, 29]])"
      ]
     },
     "execution_count": 10,
     "metadata": {},
     "output_type": "execute_result"
    }
   ],
   "source": [
    "a = np.arange(30).reshape(5,-1)\n",
    "a"
   ]
  },
  {
   "cell_type": "code",
   "execution_count": 12,
   "id": "49f73e3e",
   "metadata": {
    "scrolled": true
   },
   "outputs": [
    {
     "data": {
      "text/plain": [
       "(0, 2, 28, array([0, 1, 2, 3, 4, 5]))"
      ]
     },
     "execution_count": 12,
     "metadata": {},
     "output_type": "execute_result"
    }
   ],
   "source": [
    "a [0][0], a[0][2], a[-1][-2], a[0]"
   ]
  },
  {
   "cell_type": "code",
   "execution_count": 14,
   "id": "aa2eed1b",
   "metadata": {},
   "outputs": [
    {
     "data": {
      "text/plain": [
       "(0, 2, 28, array([0, 1, 2, 3, 4, 5]))"
      ]
     },
     "execution_count": 14,
     "metadata": {},
     "output_type": "execute_result"
    }
   ],
   "source": [
    "a [0,0], a[0,2], a[-1,-2], a[0]"
   ]
  },
  {
   "cell_type": "code",
   "execution_count": 15,
   "id": "8fa7c718",
   "metadata": {},
   "outputs": [
    {
     "data": {
      "text/plain": [
       "[array([12, 13, 14, 15, 16, 17]), array([12, 13, 14, 15, 16, 17])]"
      ]
     },
     "execution_count": 15,
     "metadata": {},
     "output_type": "execute_result"
    }
   ],
   "source": [
    "variants = [ a [2], a[2,:]]\n",
    "variants"
   ]
  },
  {
   "cell_type": "code",
   "execution_count": 16,
   "id": "127d77c4",
   "metadata": {
    "scrolled": true
   },
   "outputs": [
    {
     "data": {
      "text/plain": [
       "array([ 3,  9, 15, 21, 27])"
      ]
     },
     "execution_count": 16,
     "metadata": {},
     "output_type": "execute_result"
    }
   ],
   "source": [
    "a[:,3]"
   ]
  },
  {
   "cell_type": "code",
   "execution_count": 17,
   "id": "1c329df5",
   "metadata": {},
   "outputs": [
    {
     "data": {
      "text/plain": [
       "array([[ 0,  2,  4],\n",
       "       [ 6,  8, 10],\n",
       "       [12, 14, 16],\n",
       "       [18, 20, 22],\n",
       "       [24, 26, 28]])"
      ]
     },
     "execution_count": 17,
     "metadata": {},
     "output_type": "execute_result"
    }
   ],
   "source": [
    "a[:,::2]"
   ]
  },
  {
   "cell_type": "code",
   "execution_count": 18,
   "id": "190a6c6c",
   "metadata": {},
   "outputs": [
    {
     "data": {
      "text/plain": [
       "array([1, 3, 5])"
      ]
     },
     "execution_count": 18,
     "metadata": {},
     "output_type": "execute_result"
    }
   ],
   "source": [
    "a[0,1::2]"
   ]
  },
  {
   "cell_type": "code",
   "execution_count": 21,
   "id": "08f59e93",
   "metadata": {},
   "outputs": [
    {
     "data": {
      "text/plain": [
       "(array([[ 0,  1,  2,  3,  4,  5],\n",
       "        [ 6,  7,  8,  9, 10, 11],\n",
       "        [12, 13, 14, 15, 16, 17],\n",
       "        [18, 19, 20, 21, 22, 23],\n",
       "        [24, 25, 26, 27, 28, 29]]),\n",
       " array([[20, 23],\n",
       "        [ 8, 11]]))"
      ]
     },
     "execution_count": 21,
     "metadata": {},
     "output_type": "execute_result"
    }
   ],
   "source": [
    "a, a[1::2,2::3][::-1]"
   ]
  },
  {
   "cell_type": "code",
   "execution_count": 24,
   "id": "4a474c44",
   "metadata": {},
   "outputs": [
    {
     "data": {
      "text/plain": [
       "(array([[ 0,  1,  2,  3,  4,  5],\n",
       "        [ 6,  7,  8,  9, 10, 11],\n",
       "        [12, 13, 14, 15, 16, 17],\n",
       "        [18, 19, 20, 21, 22, 23],\n",
       "        [24, 25, 26, 27, 28, 29]]),\n",
       " array([[12, 13, 14, 15, 16, 17],\n",
       "        [24, 25, 26, 27, 28, 29],\n",
       "        [18, 19, 20, 21, 22, 23]]))"
      ]
     },
     "execution_count": 24,
     "metadata": {},
     "output_type": "execute_result"
    }
   ],
   "source": [
    "a = np.arange(30).reshape(5,-1)\n",
    "a, a[[ 2, 4, 3]]"
   ]
  },
  {
   "cell_type": "code",
   "execution_count": 26,
   "id": "b49df8f4",
   "metadata": {},
   "outputs": [
    {
     "data": {
      "text/plain": [
       "(array([[ 0,  1,  2,  3,  4,  5],\n",
       "        [ 6,  7,  8,  9, 10, 11],\n",
       "        [12, 13, 14, 15, 16, 17],\n",
       "        [18, 19, 20, 21, 22, 23],\n",
       "        [24, 25, 26, 27, 28, 29]]),\n",
       " array([[ 0,  5],\n",
       "        [ 6, 11],\n",
       "        [12, 17],\n",
       "        [18, 23],\n",
       "        [24, 29]]))"
      ]
     },
     "execution_count": 26,
     "metadata": {},
     "output_type": "execute_result"
    }
   ],
   "source": [
    "a, a[:, [0, -1]]"
   ]
  },
  {
   "cell_type": "code",
   "execution_count": 29,
   "id": "d8609cde",
   "metadata": {},
   "outputs": [
    {
     "data": {
      "text/plain": [
       "(array([[ 0,  1,  2,  3,  4,  5],\n",
       "        [ 6,  7,  8,  9, 10, 11],\n",
       "        [12, 13, 14, 15, 16, 17],\n",
       "        [18, 19, 20, 21, 22, 23],\n",
       "        [24, 25, 26, 27, 28, 29]]),\n",
       " array([[12, 17],\n",
       "        [24, 29],\n",
       "        [18, 23]]))"
      ]
     },
     "execution_count": 29,
     "metadata": {},
     "output_type": "execute_result"
    }
   ],
   "source": [
    "a, a[[ 2, 4, 3]][:, [0, -1]]"
   ]
  },
  {
   "cell_type": "code",
   "execution_count": 32,
   "id": "d85a2064",
   "metadata": {},
   "outputs": [
    {
     "data": {
      "text/plain": [
       "(array([[[ 0,  1,  2,  3],\n",
       "         [ 4,  5,  6,  7],\n",
       "         [ 8,  9, 10, 11]],\n",
       " \n",
       "        [[12, 13, 14, 15],\n",
       "         [16, 17, 18, 19],\n",
       "         [20, 21, 22, 23]]]),\n",
       " array([[ 0,  4,  8],\n",
       "        [12, 16, 20]]),\n",
       " array([[ 0,  4,  8],\n",
       "        [12, 16, 20]]))"
      ]
     },
     "execution_count": 32,
     "metadata": {},
     "output_type": "execute_result"
    }
   ],
   "source": [
    "a = np.arange(24).reshape(2,3,4)\n",
    "a, a[...,0], a[:,:,0]"
   ]
  },
  {
   "cell_type": "code",
   "execution_count": 33,
   "id": "836a690a",
   "metadata": {},
   "outputs": [
    {
     "data": {
      "text/plain": [
       "(array([[[ 0,  1,  2,  3],\n",
       "         [ 4,  5,  6,  7],\n",
       "         [ 8,  9, 10, 11]],\n",
       " \n",
       "        [[12, 13, 14, 15],\n",
       "         [16, 17, 18, 19],\n",
       "         [20, 21, 22, 23]]]),\n",
       " array([[12, 13, 14, 15],\n",
       "        [16, 17, 18, 19],\n",
       "        [20, 21, 22, 23]]),\n",
       " array([[ 0,  1,  2,  3],\n",
       "        [ 4,  5,  6,  7],\n",
       "        [ 8,  9, 10, 11]]))"
      ]
     },
     "execution_count": 33,
     "metadata": {},
     "output_type": "execute_result"
    }
   ],
   "source": [
    "a, a[1,...], a[0,:,:]"
   ]
  },
  {
   "cell_type": "code",
   "execution_count": 34,
   "id": "7ffd7f4b",
   "metadata": {
    "scrolled": true
   },
   "outputs": [
    {
     "data": {
      "text/plain": [
       "(array([[[ 0,  1,  2,  3],\n",
       "         [ 4,  5,  6,  7],\n",
       "         [ 8,  9, 10, 11]],\n",
       " \n",
       "        [[12, 13, 14, 15],\n",
       "         [16, 17, 18, 19],\n",
       "         [20, 21, 22, 23]]]),\n",
       " array([[ 0,  1,  2,  3],\n",
       "        [12, 13, 14, 15]]))"
      ]
     },
     "execution_count": 34,
     "metadata": {},
     "output_type": "execute_result"
    }
   ],
   "source": [
    "a, a[..., 0,:]"
   ]
  },
  {
   "cell_type": "code",
   "execution_count": 81,
   "id": "e2c1314b",
   "metadata": {},
   "outputs": [
    {
     "data": {
      "text/plain": [
       "array([[ 1.,  2.,  3.,  4.,  5.,  6.],\n",
       "       [ 7.,  8.,  9., 10., 11., 12.]])"
      ]
     },
     "execution_count": 81,
     "metadata": {},
     "output_type": "execute_result"
    }
   ],
   "source": [
    "a = np.arange(12).reshape(2,6).astype(float) \n",
    "a += 1\n",
    "a"
   ]
  },
  {
   "cell_type": "code",
   "execution_count": 57,
   "id": "5271c6e4",
   "metadata": {},
   "outputs": [
    {
     "data": {
      "text/plain": [
       "12"
      ]
     },
     "execution_count": 57,
     "metadata": {},
     "output_type": "execute_result"
    }
   ],
   "source": [
    "count = a.size\n",
    "count"
   ]
  },
  {
   "cell_type": "code",
   "execution_count": 58,
   "id": "700eb3a2",
   "metadata": {},
   "outputs": [
    {
     "name": "stdout",
     "output_type": "stream",
     "text": [
      "8\n"
     ]
    },
    {
     "data": {
      "text/plain": [
       "8"
      ]
     },
     "execution_count": 58,
     "metadata": {},
     "output_type": "execute_result"
    }
   ],
   "source": [
    "item_size = a.dtype.itemsize\n",
    "print (item_size)\n",
    "item_size"
   ]
  },
  {
   "cell_type": "code",
   "execution_count": 59,
   "id": "1c79e30a",
   "metadata": {},
   "outputs": [
    {
     "name": "stdout",
     "output_type": "stream",
     "text": [
      "96\n",
      "96\n"
     ]
    }
   ],
   "source": [
    "array_size = count * item_size\n",
    "print (array_size)\n",
    "print (a.nbytes)"
   ]
  },
  {
   "cell_type": "code",
   "execution_count": 60,
   "id": "f02b68aa",
   "metadata": {},
   "outputs": [
    {
     "data": {
      "text/plain": [
       "(array([[ 1.,  2.,  3.,  4.,  5.,  6.],\n",
       "        [ 7.,  8.,  9., 10., 11., 12.]]),\n",
       " (48, 8))"
      ]
     },
     "execution_count": 60,
     "metadata": {},
     "output_type": "execute_result"
    }
   ],
   "source": [
    "a,  a.strides"
   ]
  },
  {
   "cell_type": "code",
   "execution_count": 61,
   "id": "2b6b0412",
   "metadata": {
    "scrolled": true
   },
   "outputs": [
    {
     "data": {
      "text/plain": [
       "array([[ 1.,  2.,  3.,  4.,  5.,  6.],\n",
       "       [ 7.,  8.,  9., 10., 11., 12.]])"
      ]
     },
     "execution_count": 61,
     "metadata": {},
     "output_type": "execute_result"
    }
   ],
   "source": [
    "b = a\n",
    "b"
   ]
  },
  {
   "cell_type": "code",
   "execution_count": 62,
   "id": "80988db5",
   "metadata": {},
   "outputs": [],
   "source": [
    "a = np.array([1,2,3,4,5], dtype=np.float32)"
   ]
  },
  {
   "cell_type": "code",
   "execution_count": 67,
   "id": "52e498e1",
   "metadata": {},
   "outputs": [
    {
     "data": {
      "text/plain": [
       "array([ 1.,  2., -2.,  4.,  5.], dtype=float32)"
      ]
     },
     "execution_count": 67,
     "metadata": {},
     "output_type": "execute_result"
    }
   ],
   "source": [
    "b = np.asarray(a)\n",
    "b"
   ]
  },
  {
   "cell_type": "code",
   "execution_count": 66,
   "id": "f09f8ff2",
   "metadata": {},
   "outputs": [
    {
     "data": {
      "text/plain": [
       "(array([ 1.,  2., -2.,  4.,  5.], dtype=float32),\n",
       " array([1., 2., 3., 4., 5.], dtype=float32))"
      ]
     },
     "execution_count": 66,
     "metadata": {},
     "output_type": "execute_result"
    }
   ],
   "source": [
    "c = np.array(a)\n",
    "\n",
    "a[2] = -2\n",
    "\n",
    "a, c"
   ]
  },
  {
   "cell_type": "code",
   "execution_count": 77,
   "id": "9c30c837",
   "metadata": {},
   "outputs": [
    {
     "data": {
      "text/plain": [
       "(array([    1., -1000.,    -2.,     4.,     5.], dtype=float32),\n",
       " array([    1, -1000,    -2,     4,     5]))"
      ]
     },
     "execution_count": 77,
     "metadata": {},
     "output_type": "execute_result"
    }
   ],
   "source": [
    "b = 0\n",
    "b = np.asarray(a, dtype = np.int32)\n",
    "a[1] = -1000\n",
    "a,b\n"
   ]
  },
  {
   "cell_type": "code",
   "execution_count": 78,
   "id": "f291086b",
   "metadata": {},
   "outputs": [
    {
     "data": {
      "text/plain": [
       "(array([ 1.,  2., -2.,  4.,  5.], dtype=float32),\n",
       " array([ 1065353216,  1073741824, -1073741824,  1082130432,  1084227584]))"
      ]
     },
     "execution_count": 78,
     "metadata": {},
     "output_type": "execute_result"
    }
   ],
   "source": [
    "a = np.array([1,2,3,4,5], dtype=np.float32)\n",
    "b = a.view(np.int32)\n",
    "a[2] = -2\n",
    "\n",
    "a,b\n"
   ]
  },
  {
   "cell_type": "code",
   "execution_count": 82,
   "id": "34b26118",
   "metadata": {},
   "outputs": [
    {
     "data": {
      "text/plain": [
       "(array([[ 1.,  2.],\n",
       "        [ 3.,  4.],\n",
       "        [ 5.,  6.],\n",
       "        [ 7.,  8.],\n",
       "        [ 9., 10.],\n",
       "        [11., 12.]]),\n",
       " (6, 2),\n",
       " (16, 8))"
      ]
     },
     "execution_count": 82,
     "metadata": {},
     "output_type": "execute_result"
    }
   ],
   "source": [
    "b = a.reshape(6,2)\n",
    "\n",
    "b, b.shape, b.strides"
   ]
  },
  {
   "cell_type": "code",
   "execution_count": 84,
   "id": "920c36c9",
   "metadata": {
    "scrolled": true
   },
   "outputs": [
    {
     "data": {
      "text/plain": [
       "(array([[[ 1.,  2.],\n",
       "         [ 3.,  4.]],\n",
       " \n",
       "        [[ 5.,  6.],\n",
       "         [ 7.,  8.]],\n",
       " \n",
       "        [[ 9., 10.],\n",
       "         [11., 12.]]]),\n",
       " (3, 2, 2),\n",
       " (32, 16, 8))"
      ]
     },
     "execution_count": 84,
     "metadata": {},
     "output_type": "execute_result"
    }
   ],
   "source": [
    "c = a.reshape(3,2,2)\n",
    "c, c.shape,c.strides"
   ]
  },
  {
   "cell_type": "code",
   "execution_count": 86,
   "id": "c27e87f5",
   "metadata": {
    "scrolled": true
   },
   "outputs": [
    {
     "data": {
      "text/plain": [
       "array([[ 1.,  2.,  3.],\n",
       "       [ 4.,  5.,  6.],\n",
       "       [ 7.,  8.,  9.],\n",
       "       [10., 11., 12.]])"
      ]
     },
     "execution_count": 86,
     "metadata": {},
     "output_type": "execute_result"
    }
   ],
   "source": [
    "a.reshape(-1,3)"
   ]
  },
  {
   "cell_type": "code",
   "execution_count": 89,
   "id": "88798e5c",
   "metadata": {},
   "outputs": [
    {
     "data": {
      "text/plain": [
       "(array([[  1., -10.,   3.,   4.],\n",
       "        [  5.,   6.,   7.,   8.],\n",
       "        [  9.,  10.,  11.,  12.]]),\n",
       " array([[  1., -10.,   3.,   4.,   5.,   6.],\n",
       "        [  7.,   8.,   9.,  10.,  11.,  12.]]))"
      ]
     },
     "execution_count": 89,
     "metadata": {},
     "output_type": "execute_result"
    }
   ],
   "source": [
    "b = a.reshape(3,-1)\n",
    "a [0,1] = -10\n",
    "b,a"
   ]
  },
  {
   "cell_type": "code",
   "execution_count": 91,
   "id": "1d56786d",
   "metadata": {},
   "outputs": [
    {
     "data": {
      "text/plain": [
       "array([  1., -20.,   3.,   4.,   5.,   6.,   7.,   8.,   9.,  10.,  11.,\n",
       "        12.])"
      ]
     },
     "execution_count": 91,
     "metadata": {},
     "output_type": "execute_result"
    }
   ],
   "source": [
    "b = a.flatten()\n",
    "a[0,1] = -20\n",
    "b"
   ]
  },
  {
   "cell_type": "code",
   "execution_count": 92,
   "id": "b48f454e",
   "metadata": {},
   "outputs": [
    {
     "data": {
      "text/plain": [
       "array([  1., -30.,   3.,   4.,   5.,   6.,   7.,   8.,   9.,  10.,  11.,\n",
       "        12.])"
      ]
     },
     "execution_count": 92,
     "metadata": {},
     "output_type": "execute_result"
    }
   ],
   "source": [
    "b = a.ravel()\n",
    "a[0,1] =  -30\n",
    "b"
   ]
  },
  {
   "cell_type": "code",
   "execution_count": 95,
   "id": "9d96ff86",
   "metadata": {},
   "outputs": [
    {
     "data": {
      "text/plain": [
       "(array([[  1.,   7.],\n",
       "        [-40.,   8.],\n",
       "        [  3.,   9.],\n",
       "        [  4.,  10.],\n",
       "        [  5.,  11.],\n",
       "        [  6.,  12.]]),\n",
       " (6, 2),\n",
       " (8, 48))"
      ]
     },
     "execution_count": 95,
     "metadata": {},
     "output_type": "execute_result"
    }
   ],
   "source": [
    "c = a.T\n",
    "a[0,1] = -40\n",
    "c, c.shape,c.strides"
   ]
  },
  {
   "cell_type": "code",
   "execution_count": 96,
   "id": "17bf358e",
   "metadata": {},
   "outputs": [
    {
     "data": {
      "text/plain": [
       "(array([0, 1, 2, 3, 4, 5, 6, 7, 8, 9]), (10,), (4,))"
      ]
     },
     "execution_count": 96,
     "metadata": {},
     "output_type": "execute_result"
    }
   ],
   "source": [
    "b = np.arange(10)\n",
    "\n",
    "b, b.shape, b.strides"
   ]
  },
  {
   "cell_type": "code",
   "execution_count": 98,
   "id": "f2d32f1a",
   "metadata": {},
   "outputs": [
    {
     "data": {
      "text/plain": [
       "(array([  0,   1, -20,   3,   4,   5,   6,   7,   8,   9]),\n",
       " array([[  0,   1, -20,   3,   4,   5,   6,   7,   8,   9]]))"
      ]
     },
     "execution_count": 98,
     "metadata": {},
     "output_type": "execute_result"
    }
   ],
   "source": [
    "#a = b [np.newaxis, :]\n",
    "a = a.reshape(1,*b.shape)\n",
    "b[2] = -20\n",
    "\n",
    "b,a"
   ]
  },
  {
   "cell_type": "code",
   "execution_count": null,
   "id": "da2be35f",
   "metadata": {},
   "outputs": [],
   "source": [
    "a = a.reshape(3,-1)\n"
   ]
  },
  {
   "cell_type": "code",
   "execution_count": 111,
   "id": "531e8844",
   "metadata": {},
   "outputs": [
    {
     "data": {
      "text/plain": [
       "(array([[0., 0.],\n",
       "        [0., 0.],\n",
       "        [0., 0.]]),\n",
       " (3, 2))"
      ]
     },
     "execution_count": 111,
     "metadata": {},
     "output_type": "execute_result"
    }
   ],
   "source": [
    "a = np.zeros(shape=(3,2))\n",
    "a, a.shape"
   ]
  },
  {
   "cell_type": "code",
   "execution_count": 114,
   "id": "08c60cae",
   "metadata": {},
   "outputs": [
    {
     "data": {
      "text/plain": [
       "(array([[0., 0.],\n",
       "        [0., 0.],\n",
       "        [0., 0.]]),\n",
       " (3, 2),\n",
       " array([[ 0. , -0.1],\n",
       "        [ 0. ,  0. ],\n",
       "        [ 0. ,  0. ]]),\n",
       " (3, 2))"
      ]
     },
     "execution_count": 114,
     "metadata": {},
     "output_type": "execute_result"
    }
   ],
   "source": [
    "b = np.zeros_like(a)\n",
    "a[0][1] = -0.1\n",
    "b, b.shape, a, a.shape\n"
   ]
  },
  {
   "cell_type": "code",
   "execution_count": 116,
   "id": "ed43a2a1",
   "metadata": {},
   "outputs": [
    {
     "data": {
      "text/plain": [
       "array([1., 1., 1., 1., 1.])"
      ]
     },
     "execution_count": 116,
     "metadata": {},
     "output_type": "execute_result"
    }
   ],
   "source": [
    "np.ones(5)"
   ]
  },
  {
   "cell_type": "code",
   "execution_count": 123,
   "id": "76f4e103",
   "metadata": {},
   "outputs": [
    {
     "data": {
      "text/plain": [
       "array([[1., 0., 0., 0., 0., 0., 0., 0., 0., 0.],\n",
       "       [0., 1., 0., 0., 0., 0., 0., 0., 0., 0.],\n",
       "       [0., 0., 1., 0., 0., 0., 0., 0., 0., 0.],\n",
       "       [0., 0., 0., 1., 0., 0., 0., 0., 0., 0.],\n",
       "       [0., 0., 0., 0., 1., 0., 0., 0., 0., 0.],\n",
       "       [0., 0., 0., 0., 0., 1., 0., 0., 0., 0.],\n",
       "       [0., 0., 0., 0., 0., 0., 1., 0., 0., 0.],\n",
       "       [0., 0., 0., 0., 0., 0., 0., 1., 0., 0.],\n",
       "       [0., 0., 0., 0., 0., 0., 0., 0., 1., 0.],\n",
       "       [0., 0., 0., 0., 0., 0., 0., 0., 0., 1.]])"
      ]
     },
     "execution_count": 123,
     "metadata": {},
     "output_type": "execute_result"
    }
   ],
   "source": [
    "np.eye(10)"
   ]
  },
  {
   "cell_type": "code",
   "execution_count": 119,
   "id": "d73719e7",
   "metadata": {},
   "outputs": [
    {
     "data": {
      "text/plain": [
       "array([1, 2, 3, 4, 5, 6, 7, 8, 9])"
      ]
     },
     "execution_count": 119,
     "metadata": {},
     "output_type": "execute_result"
    }
   ],
   "source": [
    "np.arange (1, 10)"
   ]
  },
  {
   "cell_type": "code",
   "execution_count": 120,
   "id": "b8245675",
   "metadata": {},
   "outputs": [
    {
     "data": {
      "text/plain": [
       "array([1, 3, 5, 7, 9])"
      ]
     },
     "execution_count": 120,
     "metadata": {},
     "output_type": "execute_result"
    }
   ],
   "source": [
    "np.arange (1, 10, 2) #шаг"
   ]
  },
  {
   "cell_type": "code",
   "execution_count": 121,
   "id": "437c55cf",
   "metadata": {
    "scrolled": true
   },
   "outputs": [
    {
     "data": {
      "text/plain": [
       "array([1. , 1.5, 2. , 2.5, 3. , 3.5, 4. , 4.5, 5. , 5.5, 6. , 6.5, 7. ,\n",
       "       7.5, 8. , 8.5, 9. , 9.5])"
      ]
     },
     "execution_count": 121,
     "metadata": {},
     "output_type": "execute_result"
    }
   ],
   "source": [
    "np.arange (1, 10, 0.5)"
   ]
  },
  {
   "cell_type": "code",
   "execution_count": 122,
   "id": "e0091543",
   "metadata": {},
   "outputs": [
    {
     "data": {
      "text/plain": [
       "array([0.  , 0.25, 0.5 , 0.75, 1.  ])"
      ]
     },
     "execution_count": 122,
     "metadata": {},
     "output_type": "execute_result"
    }
   ],
   "source": [
    "np.linspace(0, 1, 5, endpoint=True)"
   ]
  },
  {
   "cell_type": "code",
   "execution_count": 125,
   "id": "c00a9ebe",
   "metadata": {},
   "outputs": [
    {
     "data": {
      "text/plain": [
       "array([[0, 1, 2, 3, 4],\n",
       "       [5, 6, 7, 8, 9]])"
      ]
     },
     "execution_count": 125,
     "metadata": {},
     "output_type": "execute_result"
    }
   ],
   "source": [
    "a = np.arange(10).reshape(2,-1)\n",
    "a"
   ]
  },
  {
   "cell_type": "code",
   "execution_count": 126,
   "id": "24c06a08",
   "metadata": {},
   "outputs": [
    {
     "data": {
      "text/plain": [
       "array([[  0,   1,   8,  27,  64],\n",
       "       [125, 216, 343, 512, 729]], dtype=int32)"
      ]
     },
     "execution_count": 126,
     "metadata": {},
     "output_type": "execute_result"
    }
   ],
   "source": [
    "a ** 3 #np.power"
   ]
  },
  {
   "cell_type": "code",
   "execution_count": 127,
   "id": "afa4a553",
   "metadata": {},
   "outputs": [
    {
     "data": {
      "text/plain": [
       "array([[ 2,  3,  4,  5,  6],\n",
       "       [ 7,  8,  9, 10, 11]])"
      ]
     },
     "execution_count": 127,
     "metadata": {},
     "output_type": "execute_result"
    }
   ],
   "source": [
    "a + 2 #np.add"
   ]
  },
  {
   "cell_type": "code",
   "execution_count": 128,
   "id": "48b6ed6e",
   "metadata": {},
   "outputs": [
    {
     "data": {
      "text/plain": [
       "array([[ 0,  2,  4,  6,  8],\n",
       "       [10, 12, 14, 16, 18]])"
      ]
     },
     "execution_count": 128,
     "metadata": {},
     "output_type": "execute_result"
    }
   ],
   "source": [
    "2 * a # np.multiply"
   ]
  },
  {
   "cell_type": "code",
   "execution_count": 129,
   "id": "afac1bb9",
   "metadata": {},
   "outputs": [
    {
     "data": {
      "text/plain": [
       "array([[  1,   2,   4,   8,  16],\n",
       "       [ 32,  64, 128, 256, 512]], dtype=int32)"
      ]
     },
     "execution_count": 129,
     "metadata": {},
     "output_type": "execute_result"
    }
   ],
   "source": [
    "2 ** a #np.power"
   ]
  },
  {
   "cell_type": "code",
   "execution_count": 130,
   "id": "0d4a50ab",
   "metadata": {},
   "outputs": [
    {
     "data": {
      "text/plain": [
       "array([[0.        , 1.        , 1.41421356, 1.73205081, 2.        ],\n",
       "       [2.23606798, 2.44948974, 2.64575131, 2.82842712, 3.        ]])"
      ]
     },
     "execution_count": 130,
     "metadata": {},
     "output_type": "execute_result"
    }
   ],
   "source": [
    "np.sqrt (a)"
   ]
  },
  {
   "cell_type": "code",
   "execution_count": 131,
   "id": "30df8f54",
   "metadata": {},
   "outputs": [
    {
     "data": {
      "text/plain": [
       "array([[1.00000000e+00, 2.71828183e+00, 7.38905610e+00, 2.00855369e+01,\n",
       "        5.45981500e+01],\n",
       "       [1.48413159e+02, 4.03428793e+02, 1.09663316e+03, 2.98095799e+03,\n",
       "        8.10308393e+03]])"
      ]
     },
     "execution_count": 131,
     "metadata": {},
     "output_type": "execute_result"
    }
   ],
   "source": [
    "np.exp(a)"
   ]
  },
  {
   "cell_type": "code",
   "execution_count": 132,
   "id": "c369f30f",
   "metadata": {},
   "outputs": [
    {
     "data": {
      "text/plain": [
       "array([[0.        , 0.69314718, 1.09861229, 1.38629436, 1.60943791],\n",
       "       [1.79175947, 1.94591015, 2.07944154, 2.19722458, 2.30258509]])"
      ]
     },
     "execution_count": 132,
     "metadata": {},
     "output_type": "execute_result"
    }
   ],
   "source": [
    "np.log(1+a)"
   ]
  },
  {
   "cell_type": "code",
   "execution_count": 133,
   "id": "3c83d385",
   "metadata": {
    "scrolled": true
   },
   "outputs": [
    {
     "data": {
      "text/plain": [
       "array([[0.        , 1.        , 1.5849625 , 2.        , 2.32192809],\n",
       "       [2.5849625 , 2.80735492, 3.        , 3.169925  , 3.32192809]])"
      ]
     },
     "execution_count": 133,
     "metadata": {},
     "output_type": "execute_result"
    }
   ],
   "source": [
    "np.log2(1+a)"
   ]
  },
  {
   "cell_type": "code",
   "execution_count": 134,
   "id": "cf44f1a2",
   "metadata": {},
   "outputs": [
    {
     "data": {
      "text/plain": [
       "array([[ 0.        ,  0.84147098,  0.90929743,  0.14112001, -0.7568025 ],\n",
       "       [-0.95892427, -0.2794155 ,  0.6569866 ,  0.98935825,  0.41211849]])"
      ]
     },
     "execution_count": 134,
     "metadata": {},
     "output_type": "execute_result"
    }
   ],
   "source": [
    "np.sin(a)"
   ]
  },
  {
   "cell_type": "code",
   "execution_count": 135,
   "id": "c9a34a22",
   "metadata": {},
   "outputs": [
    {
     "data": {
      "text/plain": [
       "array([[False,  True,  True,  True,  True],\n",
       "       [ True,  True,  True,  True,  True]])"
      ]
     },
     "execution_count": 135,
     "metadata": {},
     "output_type": "execute_result"
    }
   ],
   "source": [
    "np.greater (a, 0)"
   ]
  },
  {
   "cell_type": "code",
   "execution_count": 139,
   "id": "d7a6ed1a",
   "metadata": {},
   "outputs": [
    {
     "data": {
      "text/plain": [
       "array([ 2,  3,  5, 10,  7,  2,  4])"
      ]
     },
     "execution_count": 139,
     "metadata": {},
     "output_type": "execute_result"
    }
   ],
   "source": [
    "np.random.seed(128)\n",
    "a = np.random.randint(0, 10, size=(7, ))\n",
    "a [3] = 10\n",
    "a"
   ]
  },
  {
   "cell_type": "code",
   "execution_count": 140,
   "id": "cdd0c754",
   "metadata": {},
   "outputs": [
    {
     "data": {
      "text/plain": [
       "(2, 10, 3, 33, 16800, 4.714285714285714)"
      ]
     },
     "execution_count": 140,
     "metadata": {},
     "output_type": "execute_result"
    }
   ],
   "source": [
    "a.min(), a.max(), a.argmax(), a.sum(), a.prod(), a.mean()"
   ]
  },
  {
   "cell_type": "code",
   "execution_count": 141,
   "id": "eb92765d",
   "metadata": {},
   "outputs": [
    {
     "data": {
      "text/plain": [
       "(2, 10, 3, 33, 16800, 4.714285714285714)"
      ]
     },
     "execution_count": 141,
     "metadata": {},
     "output_type": "execute_result"
    }
   ],
   "source": [
    "np.min(a), np.max(a), np.argmax(a), np.sum(a), np.prod(a), np.mean(a)"
   ]
  },
  {
   "cell_type": "code",
   "execution_count": 142,
   "id": "9e6bd4d6",
   "metadata": {},
   "outputs": [
    {
     "data": {
      "text/plain": [
       "array([[ 9,  9,  5,  1],\n",
       "       [ 4,  4,  9,  0],\n",
       "       [ 0,  8, 25,  4],\n",
       "       [ 0,  1,  2,  4]])"
      ]
     },
     "execution_count": 142,
     "metadata": {},
     "output_type": "execute_result"
    }
   ],
   "source": [
    "np.random.seed(16)\n",
    "\n",
    "a = np.random.randint(0, 10, size=(4,4))\n",
    "a [2,2] = 25\n",
    "a"
   ]
  },
  {
   "cell_type": "code",
   "execution_count": 143,
   "id": "2e475f28",
   "metadata": {},
   "outputs": [
    {
     "data": {
      "text/plain": [
       "10"
      ]
     },
     "execution_count": 143,
     "metadata": {},
     "output_type": "execute_result"
    }
   ],
   "source": [
    "a.argmax()"
   ]
  },
  {
   "cell_type": "code",
   "execution_count": 144,
   "id": "28cc0598",
   "metadata": {},
   "outputs": [
    {
     "data": {
      "text/plain": [
       "25"
      ]
     },
     "execution_count": 144,
     "metadata": {},
     "output_type": "execute_result"
    }
   ],
   "source": [
    "a.ravel()[a.argmax()]"
   ]
  },
  {
   "cell_type": "code",
   "execution_count": 149,
   "id": "fd361996",
   "metadata": {},
   "outputs": [
    {
     "name": "stdout",
     "output_type": "stream",
     "text": [
      "value = 25\n",
      "index = (2, 2)\n"
     ]
    }
   ],
   "source": [
    "i = np.argmax(a)\n",
    "i, j = i // a.shape[1], i % a.shape[1]\n",
    "\n",
    "print (\"value =\", a[i,j])\n",
    "print (\"index =\", (i,j))"
   ]
  },
  {
   "cell_type": "code",
   "execution_count": 150,
   "id": "1a5fcba6",
   "metadata": {
    "scrolled": true
   },
   "outputs": [
    {
     "data": {
      "text/plain": [
       "(2, 2)"
      ]
     },
     "execution_count": 150,
     "metadata": {},
     "output_type": "execute_result"
    }
   ],
   "source": [
    "np.unravel_index(np.argmax(a), a.shape)\n"
   ]
  },
  {
   "cell_type": "code",
   "execution_count": 155,
   "id": "7f8f581b",
   "metadata": {},
   "outputs": [
    {
     "name": "stdout",
     "output_type": "stream",
     "text": [
      "13.5 ms ± 108 µs per loop (mean ± std. dev. of 7 runs, 100 loops each)\n"
     ]
    }
   ],
   "source": [
    "%%timeit\n",
    "\n",
    "b = np.random.randint(0, 10, size=(1_000,1_000))\n",
    "b[36, 42] = 20\n",
    "b = b.ravel()\n"
   ]
  },
  {
   "cell_type": "code",
   "execution_count": 162,
   "id": "dbde8f52",
   "metadata": {},
   "outputs": [
    {
     "name": "stdout",
     "output_type": "stream",
     "text": [
      "6.81 µs ± 25.3 ns per loop (mean ± std. dev. of 7 runs, 100,000 loops each)\n"
     ]
    }
   ],
   "source": [
    "%%timeit\n",
    "np.max(b)"
   ]
  },
  {
   "cell_type": "code",
   "execution_count": 161,
   "id": "d5953bb9",
   "metadata": {
    "scrolled": true
   },
   "outputs": [
    {
     "name": "stdout",
     "output_type": "stream",
     "text": [
      "1.62 µs ± 6.53 ns per loop (mean ± std. dev. of 7 runs, 1,000,000 loops each)\n"
     ]
    }
   ],
   "source": [
    "%%timeit\n",
    "b1 = b.ravel()\n",
    "max(b1)"
   ]
  },
  {
   "cell_type": "code",
   "execution_count": 166,
   "id": "00ccf59b",
   "metadata": {},
   "outputs": [
    {
     "data": {
      "text/plain": [
       "array([[ 7,  5,  6,  8,  3,  7,  9],\n",
       "       [ 3,  5,  9, 15,  1,  3,  1],\n",
       "       [ 2,  3,  8,  2,  4,  2,  4]])"
      ]
     },
     "execution_count": 166,
     "metadata": {},
     "output_type": "execute_result"
    }
   ],
   "source": [
    "np.random.seed(32)\n",
    "\n",
    "a = np.random.randint(0, 10, size = (3,7))\n",
    "a[1,3] =15\n",
    "\n",
    "a"
   ]
  },
  {
   "cell_type": "code",
   "execution_count": 167,
   "id": "3825f7bf",
   "metadata": {
    "scrolled": true
   },
   "outputs": [
    {
     "data": {
      "text/plain": [
       "array([ 7,  5,  9, 15,  4,  7,  9])"
      ]
     },
     "execution_count": 167,
     "metadata": {},
     "output_type": "execute_result"
    }
   ],
   "source": [
    "a.max(axis=0)"
   ]
  },
  {
   "cell_type": "code",
   "execution_count": 169,
   "id": "7573cee4",
   "metadata": {},
   "outputs": [
    {
     "data": {
      "text/plain": [
       "array([45, 37, 25])"
      ]
     },
     "execution_count": 169,
     "metadata": {},
     "output_type": "execute_result"
    }
   ],
   "source": [
    "\n",
    "a.sum(axis=1)"
   ]
  },
  {
   "cell_type": "code",
   "execution_count": 171,
   "id": "f0ffad82",
   "metadata": {},
   "outputs": [
    {
     "data": {
      "text/plain": [
       "(array([[3, 4],\n",
       "        [1, 9],\n",
       "        [5, 8],\n",
       "        [3, 8]]),\n",
       " array([[0, 5],\n",
       "        [1, 3],\n",
       "        [9, 2],\n",
       "        [2, 6]]))"
      ]
     },
     "execution_count": 171,
     "metadata": {},
     "output_type": "execute_result"
    }
   ],
   "source": [
    "np.random.seed(8)\n",
    "a = np.random.randint(0, 10, size = (4,2))\n",
    "b = np.random.randint(0, 10, size = (4,2))\n",
    "\n",
    "a, b"
   ]
  },
  {
   "cell_type": "code",
   "execution_count": 175,
   "id": "ef46ba9a",
   "metadata": {},
   "outputs": [
    {
     "data": {
      "text/plain": [
       "(array([[3, 4],\n",
       "        [1, 9],\n",
       "        [5, 8],\n",
       "        [3, 8]]),\n",
       " array([[0, 5],\n",
       "        [1, 3],\n",
       "        [9, 2],\n",
       "        [2, 6]]),\n",
       " array([[ 0, 20],\n",
       "        [ 1, 27],\n",
       "        [45, 16],\n",
       "        [ 6, 48]]))"
      ]
     },
     "execution_count": 175,
     "metadata": {},
     "output_type": "execute_result"
    }
   ],
   "source": [
    "a, b, a * b"
   ]
  },
  {
   "cell_type": "code",
   "execution_count": 176,
   "id": "15dec095",
   "metadata": {},
   "outputs": [
    {
     "data": {
      "text/plain": [
       "(array([[3, 4],\n",
       "        [1, 9],\n",
       "        [5, 8],\n",
       "        [3, 8]]),\n",
       " array([[0, 5],\n",
       "        [1, 3],\n",
       "        [9, 2],\n",
       "        [2, 6]]),\n",
       " array([[ 3,  9],\n",
       "        [ 2, 12],\n",
       "        [14, 10],\n",
       "        [ 5, 14]]))"
      ]
     },
     "execution_count": 176,
     "metadata": {},
     "output_type": "execute_result"
    }
   ],
   "source": [
    "a, b, a + b"
   ]
  },
  {
   "cell_type": "code",
   "execution_count": 178,
   "id": "e5149967",
   "metadata": {},
   "outputs": [
    {
     "data": {
      "text/plain": [
       "(array([[3, 4],\n",
       "        [1, 9],\n",
       "        [5, 8],\n",
       "        [3, 8]]),\n",
       " array([[0, 5],\n",
       "        [1, 3],\n",
       "        [9, 2],\n",
       "        [2, 6]]),\n",
       " array([[3, 5],\n",
       "        [1, 9],\n",
       "        [9, 8],\n",
       "        [3, 8]]))"
      ]
     },
     "execution_count": 178,
     "metadata": {},
     "output_type": "execute_result"
    }
   ],
   "source": [
    "a, b, np.fmax(a, b)"
   ]
  },
  {
   "cell_type": "code",
   "execution_count": 179,
   "id": "49e81585",
   "metadata": {},
   "outputs": [
    {
     "data": {
      "text/plain": [
       "(array([[3, 4],\n",
       "        [1, 9],\n",
       "        [5, 8],\n",
       "        [3, 8]]),\n",
       " array([[0, 5],\n",
       "        [1, 3],\n",
       "        [9, 2],\n",
       "        [2, 6]]),\n",
       " array([[ True, False],\n",
       "        [False,  True],\n",
       "        [False,  True],\n",
       "        [ True,  True]]))"
      ]
     },
     "execution_count": 179,
     "metadata": {},
     "output_type": "execute_result"
    }
   ],
   "source": [
    "a, b, a > b"
   ]
  },
  {
   "cell_type": "code",
   "execution_count": 183,
   "id": "0ddbf424",
   "metadata": {},
   "outputs": [
    {
     "data": {
      "text/plain": [
       "(array([[0.0457838 , 0.58612071, 0.20323985, 0.08424309, 0.02599218],\n",
       "        [0.40293724, 0.37871185, 0.05284018, 0.80535711, 0.37964511]]),\n",
       " array([[0.04578418, 0.58612146, 0.2032404 , 0.08424361, 0.02599313],\n",
       "        [0.40293763, 0.37871226, 0.05284059, 0.80535735, 0.37964563]]))"
      ]
     },
     "execution_count": 183,
     "metadata": {},
     "output_type": "execute_result"
    }
   ],
   "source": [
    "np.random.seed(256)\n",
    "a = np.random.random(size=(2,5))\n",
    "b = a + np.random.random(size =(2,5)) * 1e-6\n",
    "a,b"
   ]
  },
  {
   "cell_type": "code",
   "execution_count": 184,
   "id": "3bbd0eb2",
   "metadata": {},
   "outputs": [
    {
     "data": {
      "text/plain": [
       "array([[ True,  True,  True,  True, False],\n",
       "       [ True,  True,  True,  True,  True]])"
      ]
     },
     "execution_count": 184,
     "metadata": {},
     "output_type": "execute_result"
    }
   ],
   "source": [
    "np.isclose(a,b)"
   ]
  },
  {
   "cell_type": "code",
   "execution_count": 185,
   "id": "671a4172",
   "metadata": {},
   "outputs": [
    {
     "data": {
      "text/plain": [
       "False"
      ]
     },
     "execution_count": 185,
     "metadata": {},
     "output_type": "execute_result"
    }
   ],
   "source": [
    "np.allclose(a,b)"
   ]
  },
  {
   "cell_type": "code",
   "execution_count": 189,
   "id": "bc081ae7",
   "metadata": {},
   "outputs": [
    {
     "data": {
      "text/plain": [
       "(array([4.67029839e-08, 4.72322492e-09, 4.72684360e-08, 2.14815994e-08,\n",
       "        1.97728825e-08]),\n",
       " array([ True,  True,  True,  True,  True]))"
      ]
     },
     "execution_count": 189,
     "metadata": {},
     "output_type": "execute_result"
    }
   ],
   "source": [
    "np.random.seed(4)\n",
    "a = (np.random.random(size=(5, )) - 0.5) * 1e-7\n",
    "\n",
    "a, np.isclose(a, 0, atol=1e-6)"
   ]
  },
  {
   "cell_type": "code",
   "execution_count": 188,
   "id": "f8c6b61a",
   "metadata": {},
   "outputs": [
    {
     "data": {
      "text/plain": [
       "array([ True,  True,  True,  True,  True])"
      ]
     },
     "execution_count": 188,
     "metadata": {},
     "output_type": "execute_result"
    }
   ],
   "source": [
    "np.isclose(a, 0, atol=1e-6)"
   ]
  },
  {
   "cell_type": "code",
   "execution_count": 190,
   "id": "436167b9",
   "metadata": {},
   "outputs": [
    {
     "data": {
      "text/plain": [
       "array([ True,  True, False, False,  True])"
      ]
     },
     "execution_count": 190,
     "metadata": {},
     "output_type": "execute_result"
    }
   ],
   "source": [
    "a = np.asarray([ True,  True,  False,  False, True])\n",
    "a"
   ]
  },
  {
   "cell_type": "code",
   "execution_count": 192,
   "id": "e7590bf4",
   "metadata": {},
   "outputs": [
    {
     "data": {
      "text/plain": [
       "(True, True)"
      ]
     },
     "execution_count": 192,
     "metadata": {},
     "output_type": "execute_result"
    }
   ],
   "source": [
    "a.any(), np.any(a)"
   ]
  },
  {
   "cell_type": "code",
   "execution_count": 193,
   "id": "f0099a5f",
   "metadata": {},
   "outputs": [
    {
     "data": {
      "text/plain": [
       "(False, False)"
      ]
     },
     "execution_count": 193,
     "metadata": {},
     "output_type": "execute_result"
    }
   ],
   "source": [
    "a.all(), np.all(a)"
   ]
  },
  {
   "cell_type": "code",
   "execution_count": 194,
   "id": "23bf9b36",
   "metadata": {},
   "outputs": [
    {
     "data": {
      "text/plain": [
       "(array([[ True,  True, False, False,  True],\n",
       "        [ True, False, False,  True, False]]),\n",
       " array([ True,  True, False,  True,  True]),\n",
       " array([False, False]))"
      ]
     },
     "execution_count": 194,
     "metadata": {},
     "output_type": "execute_result"
    }
   ],
   "source": [
    "a = np.asarray([[ True,  True,  False,  False, True],\n",
    "                [ True,  False,  False,  True, False]])\n",
    "a, a.any(axis=0), a.all(axis=1)"
   ]
  },
  {
   "cell_type": "code",
   "execution_count": 196,
   "id": "f03952db",
   "metadata": {},
   "outputs": [
    {
     "data": {
      "text/plain": [
       "(array([[False, False,  True,  True, False],\n",
       "        [False,  True,  True, False,  True]]),\n",
       " array([[False, False,  True,  True, False],\n",
       "        [False,  True,  True, False,  True]]))"
      ]
     },
     "execution_count": 196,
     "metadata": {},
     "output_type": "execute_result"
    }
   ],
   "source": [
    "np.logical_not(a), ~a"
   ]
  },
  {
   "cell_type": "code",
   "execution_count": 212,
   "id": "2433e3ea",
   "metadata": {},
   "outputs": [
    {
     "data": {
      "text/plain": [
       "(array([[-5,  2, -4, -5,  4],\n",
       "        [ 0,  1,  2, -2, -3],\n",
       "        [ 3,  2, -1,  1, -1],\n",
       "        [-3, -5,  4,  2,  4],\n",
       "        [-5, -3, -5,  4,  3]]),\n",
       " array([False,  True, False, False, False]),\n",
       " array([[ 0,  1,  2, -2, -3]]))"
      ]
     },
     "execution_count": 212,
     "metadata": {},
     "output_type": "execute_result"
    }
   ],
   "source": [
    "np.random.seed(256)\n",
    "\n",
    "a = np.random.randint (-5, 5, size =(5,5))\n",
    "\n",
    "a, (a == 0).any(axis=1), a[(a == 0).any(axis=1)]"
   ]
  },
  {
   "cell_type": "code",
   "execution_count": 204,
   "id": "04296442",
   "metadata": {},
   "outputs": [
    {
     "data": {
      "text/plain": [
       "(array([ True,  True, False, False,  True]),\n",
       " array([ True, False, False,  True, False]))"
      ]
     },
     "execution_count": 204,
     "metadata": {},
     "output_type": "execute_result"
    }
   ],
   "source": [
    "a = np.asarray([ True,  True,  False,  False, True])\n",
    "b = np.asarray([ True,  False,  False,  True, False])\n",
    "                \n",
    "a,b"
   ]
  },
  {
   "cell_type": "code",
   "execution_count": 205,
   "id": "a3a1be99",
   "metadata": {},
   "outputs": [
    {
     "data": {
      "text/plain": [
       "(array([ True, False, False, False, False]),\n",
       " array([ True, False, False, False, False]))"
      ]
     },
     "execution_count": 205,
     "metadata": {},
     "output_type": "execute_result"
    }
   ],
   "source": [
    "np.logical_and(a,b), a & b"
   ]
  },
  {
   "cell_type": "code",
   "execution_count": 206,
   "id": "02f081e6",
   "metadata": {},
   "outputs": [
    {
     "data": {
      "text/plain": [
       "(array([ True,  True, False,  True,  True]),\n",
       " array([ True,  True, False,  True,  True]))"
      ]
     },
     "execution_count": 206,
     "metadata": {},
     "output_type": "execute_result"
    }
   ],
   "source": [
    "np.logical_or(a,b), a | b"
   ]
  },
  {
   "cell_type": "code",
   "execution_count": 207,
   "id": "0bbf07c5",
   "metadata": {},
   "outputs": [
    {
     "data": {
      "text/plain": [
       "(array([False,  True, False,  True,  True]),\n",
       " array([False,  True, False,  True,  True]))"
      ]
     },
     "execution_count": 207,
     "metadata": {},
     "output_type": "execute_result"
    }
   ],
   "source": [
    "np.logical_xor(a,b), a ^ b"
   ]
  },
  {
   "cell_type": "code",
   "execution_count": 210,
   "id": "d41720d0",
   "metadata": {},
   "outputs": [
    {
     "data": {
      "text/plain": [
       "(array([False,  True, False,  True,  True]),\n",
       " array([False,  True, False,  True,  True]))"
      ]
     },
     "execution_count": 210,
     "metadata": {},
     "output_type": "execute_result"
    }
   ],
   "source": [
    "np.bitwise_and(a,b), a & b\n",
    "np.bitwise_or(a,b), a | b\n",
    "np.bitwise_xor(a,b), a ^ b"
   ]
  },
  {
   "cell_type": "code",
   "execution_count": 215,
   "id": "dc5e5094",
   "metadata": {},
   "outputs": [
    {
     "data": {
      "text/plain": [
       "(array([[-5,  2, -4, -5,  4],\n",
       "        [ 0,  1,  2, -2, -3],\n",
       "        [ 3,  2, -1,  1, -1],\n",
       "        [-3, -5,  4,  2,  4],\n",
       "        [-5, -3, -5,  4,  3]]),\n",
       " array([False,  True, False, False, False]),\n",
       " array([[ 0,  1,  2, -2, -3]]))"
      ]
     },
     "execution_count": 215,
     "metadata": {},
     "output_type": "execute_result"
    }
   ],
   "source": [
    "np.random.seed(256)\n",
    "\n",
    "a = np.random.randint (-5, 5, size =(5,5))\n",
    "\n",
    "a, (a == 0).any(axis=1), a[(a == 0).any(axis=1)]"
   ]
  },
  {
   "cell_type": "code",
   "execution_count": 218,
   "id": "dd65f512",
   "metadata": {},
   "outputs": [
    {
     "data": {
      "text/plain": [
       "(array([[False,  True, False, False,  True],\n",
       "        [False,  True,  True, False, False],\n",
       "        [ True,  True, False,  True, False],\n",
       "        [False, False,  True,  True,  True],\n",
       "        [False, False, False,  True,  True]]),\n",
       " array([[ True, False,  True,  True, False],\n",
       "        [False, False, False,  True,  True],\n",
       "        [False, False,  True, False,  True],\n",
       "        [ True,  True, False, False, False],\n",
       "        [ True,  True,  True, False, False]]))"
      ]
     },
     "execution_count": 218,
     "metadata": {},
     "output_type": "execute_result"
    }
   ],
   "source": [
    "a > 0, a <0"
   ]
  },
  {
   "cell_type": "code",
   "execution_count": 217,
   "id": "67b2b8a1",
   "metadata": {},
   "outputs": [
    {
     "data": {
      "text/plain": [
       "array([[ 2, -5,  4],\n",
       "       [ 1, -2, -3],\n",
       "       [ 2,  1, -1],\n",
       "       [-5,  2,  4],\n",
       "       [-3,  4,  3]])"
      ]
     },
     "execution_count": 217,
     "metadata": {},
     "output_type": "execute_result"
    }
   ],
   "source": [
    "a[:, (a > 0).sum(axis=0) > (a < 0).sum(axis=0)]"
   ]
  },
  {
   "cell_type": "code",
   "execution_count": 242,
   "id": "78a56706",
   "metadata": {},
   "outputs": [
    {
     "data": {
      "text/plain": [
       "(array([[4, 0],\n",
       "        [3, 2],\n",
       "        [4, 4]]),\n",
       " array([[8, 7, 8],\n",
       "        [9, 9, 6]]))"
      ]
     },
     "execution_count": 242,
     "metadata": {},
     "output_type": "execute_result"
    }
   ],
   "source": [
    "A = np.random.randint(0,5, size=(3,2))\n",
    "B = np.random.randint(5,10, size=(2,3))\n",
    "\n",
    "A,B"
   ]
  },
  {
   "cell_type": "code",
   "execution_count": 238,
   "id": "f1a4a261",
   "metadata": {},
   "outputs": [
    {
     "data": {
      "text/plain": [
       "(array([[52, 40, 40],\n",
       "        [18, 14, 12],\n",
       "        [ 9,  7,  6]]),\n",
       " array([[52, 40, 40],\n",
       "        [18, 14, 12],\n",
       "        [ 9,  7,  6]]))"
      ]
     },
     "execution_count": 238,
     "metadata": {},
     "output_type": "execute_result"
    }
   ],
   "source": [
    "A@B, np.matmul(A, B)"
   ]
  },
  {
   "cell_type": "code",
   "execution_count": 239,
   "id": "2c7f09d7",
   "metadata": {},
   "outputs": [
    {
     "data": {
      "text/plain": [
       "(array([0, 2, 2, 0]), array([5, 5, 5, 5]))"
      ]
     },
     "execution_count": 239,
     "metadata": {},
     "output_type": "execute_result"
    }
   ],
   "source": [
    "a = np.random.randint(0,5, size=(4,))\n",
    "b = np.random.randint(5,10, size=(4,))\n",
    "\n",
    "a, b "
   ]
  },
  {
   "cell_type": "code",
   "execution_count": 235,
   "id": "b80d0f2a",
   "metadata": {},
   "outputs": [
    {
     "data": {
      "text/plain": [
       "(38,\n",
       " array([[288,  96, 108],\n",
       "        [132,  52,  64],\n",
       "        [ 99,  39,  48]]))"
      ]
     },
     "execution_count": 235,
     "metadata": {},
     "output_type": "execute_result"
    }
   ],
   "source": [
    "np.dot(a,b), np.dot(A,B)"
   ]
  },
  {
   "cell_type": "code",
   "execution_count": 243,
   "id": "4e6b378e",
   "metadata": {},
   "outputs": [
    {
     "data": {
      "text/plain": [
       "(matrix([[12,  0],\n",
       "         [ 3,  2],\n",
       "         [ 4,  4]]),\n",
       " matrix([[8, 7, 8],\n",
       "         [9, 9, 6]]))"
      ]
     },
     "execution_count": 243,
     "metadata": {},
     "output_type": "execute_result"
    }
   ],
   "source": [
    "C = np.asmatrix(A)\n",
    "D = np.matrix(B)\n",
    "A[0][0] = 12\n",
    "B[0][0] = 24\n",
    "\n",
    "C, D"
   ]
  },
  {
   "cell_type": "code",
   "execution_count": 245,
   "id": "0fd9c87e",
   "metadata": {},
   "outputs": [
    {
     "data": {
      "text/plain": [
       "matrix([[96, 84, 96],\n",
       "        [42, 39, 36],\n",
       "        [68, 64, 56]])"
      ]
     },
     "execution_count": 245,
     "metadata": {},
     "output_type": "execute_result"
    }
   ],
   "source": [
    "F = C * D\n",
    "F"
   ]
  },
  {
   "cell_type": "code",
   "execution_count": 246,
   "id": "e7e1f2ce",
   "metadata": {},
   "outputs": [
    {
     "data": {
      "text/plain": [
       "(array([[12,  0],\n",
       "        [ 3,  2],\n",
       "        [ 4,  4]]),\n",
       " array([[144,   0],\n",
       "        [  9,   4],\n",
       "        [ 16,  16]], dtype=int32))"
      ]
     },
     "execution_count": 246,
     "metadata": {},
     "output_type": "execute_result"
    }
   ],
   "source": [
    "A, A**2"
   ]
  },
  {
   "cell_type": "code",
   "execution_count": 247,
   "id": "4322272b",
   "metadata": {},
   "outputs": [
    {
     "data": {
      "text/plain": [
       "(matrix([[96, 84, 96],\n",
       "         [42, 39, 36],\n",
       "         [68, 64, 56]]),\n",
       " matrix([[19272, 17484, 17616],\n",
       "         [ 8118,  7353,  7452],\n",
       "         [13024, 11792, 11968]]))"
      ]
     },
     "execution_count": 247,
     "metadata": {},
     "output_type": "execute_result"
    }
   ],
   "source": [
    "F, F **2"
   ]
  },
  {
   "cell_type": "code",
   "execution_count": 248,
   "id": "d771c779",
   "metadata": {},
   "outputs": [
    {
     "data": {
      "text/plain": [
       "array([[3, 1, 2],\n",
       "       [1, 0, 0],\n",
       "       [3, 2, 0]])"
      ]
     },
     "execution_count": 248,
     "metadata": {},
     "output_type": "execute_result"
    }
   ],
   "source": [
    "np.random.seed(512)\n",
    "\n",
    "A = np.random.randint (0, 5, size =(3,3))\n",
    "\n",
    "A"
   ]
  },
  {
   "cell_type": "code",
   "execution_count": 249,
   "id": "69b12800",
   "metadata": {},
   "outputs": [
    {
     "data": {
      "text/plain": [
       "4.0"
      ]
     },
     "execution_count": 249,
     "metadata": {},
     "output_type": "execute_result"
    }
   ],
   "source": [
    "np.linalg.det(A)"
   ]
  },
  {
   "cell_type": "code",
   "execution_count": 251,
   "id": "2716ebf8",
   "metadata": {},
   "outputs": [
    {
     "data": {
      "text/plain": [
       "array([[ 0.  ,  1.  ,  0.  ],\n",
       "       [ 0.  , -1.5 ,  0.5 ],\n",
       "       [ 0.5 , -0.75, -0.25]])"
      ]
     },
     "execution_count": 251,
     "metadata": {},
     "output_type": "execute_result"
    }
   ],
   "source": [
    "A1= np.linalg.inv(A)\n",
    "A1"
   ]
  },
  {
   "cell_type": "code",
   "execution_count": 253,
   "id": "5bddcf6b",
   "metadata": {
    "scrolled": true
   },
   "outputs": [
    {
     "data": {
      "text/plain": [
       "(array([[1., 0., 0.],\n",
       "        [0., 1., 0.],\n",
       "        [0., 0., 1.]]),\n",
       " array([[1., 0., 0.],\n",
       "        [0., 1., 0.],\n",
       "        [0., 0., 1.]]))"
      ]
     },
     "execution_count": 253,
     "metadata": {},
     "output_type": "execute_result"
    }
   ],
   "source": [
    "A @ A1, A1 @ A\n"
   ]
  },
  {
   "cell_type": "code",
   "execution_count": 256,
   "id": "967c1be7",
   "metadata": {},
   "outputs": [
    {
     "data": {
      "text/plain": [
       "(array([[3, 1, 2],\n",
       "        [1, 0, 0],\n",
       "        [3, 2, 0]]),\n",
       " array([ 1., -2.,  1.]))"
      ]
     },
     "execution_count": 256,
     "metadata": {},
     "output_type": "execute_result"
    }
   ],
   "source": [
    "b = np.array([1,-2,1], dtype=np.float64)\n",
    "A,b"
   ]
  },
  {
   "cell_type": "code",
   "execution_count": 257,
   "id": "0283bd46",
   "metadata": {},
   "outputs": [
    {
     "data": {
      "text/plain": [
       "array([-2.  ,  3.5 ,  1.75])"
      ]
     },
     "execution_count": 257,
     "metadata": {},
     "output_type": "execute_result"
    }
   ],
   "source": [
    "x = np.linalg.solve(A,b)\n",
    "x"
   ]
  },
  {
   "cell_type": "code",
   "execution_count": 259,
   "id": "03202753",
   "metadata": {},
   "outputs": [
    {
     "data": {
      "text/plain": [
       "array([-8.8817842e-16, -4.4408921e-16, -8.8817842e-16])"
      ]
     },
     "execution_count": 259,
     "metadata": {},
     "output_type": "execute_result"
    }
   ],
   "source": [
    "A @ x - b"
   ]
  },
  {
   "cell_type": "code",
   "execution_count": 260,
   "id": "68afddd7",
   "metadata": {
    "scrolled": true
   },
   "outputs": [
    {
     "data": {
      "text/plain": [
       "(array([ 4.67882303+0.j        , -0.83941152+0.38769081j,\n",
       "        -0.83941152-0.38769081j]),\n",
       " array([[ 0.79497756+0.j        ,  0.45795361+0.13480762j,\n",
       "          0.45795361-0.13480762j],\n",
       "        [ 0.16990973+0.j        , -0.38851526-0.34003753j,\n",
       "         -0.38851526+0.34003753j],\n",
       "        [ 0.58235845+0.j        , -0.71101039+0.j        ,\n",
       "         -0.71101039-0.j        ]]))"
      ]
     },
     "execution_count": 260,
     "metadata": {},
     "output_type": "execute_result"
    }
   ],
   "source": [
    "Iam, V = np.linalg.eig(A)\n",
    "Iam, V"
   ]
  },
  {
   "cell_type": "code",
   "execution_count": 267,
   "id": "aee64498",
   "metadata": {},
   "outputs": [
    {
     "data": {
      "text/plain": [
       "array([-0.43950792,  0.61798406])"
      ]
     },
     "execution_count": 267,
     "metadata": {},
     "output_type": "execute_result"
    }
   ],
   "source": [
    "X = np.array([[3,4], [2,7], [1,5]])\n",
    "y = np.array([1,4,2])\n",
    "E = np.eye(2)\n",
    "lam = 0.01\n",
    "w = np.linalg.inv(X.T @ X + lam * E) @ X.T @ y\n",
    "w"
   ]
  },
  {
   "cell_type": "code",
   "execution_count": 268,
   "id": "a3433afe",
   "metadata": {},
   "outputs": [
    {
     "data": {
      "text/plain": [
       "array([0.68233647, 0.32597119, 0.67656027, 0.88749116, 0.28003724,\n",
       "       0.82334775, 0.16825266, 0.54987075, 0.2304416 , 0.99234406])"
      ]
     },
     "execution_count": 268,
     "metadata": {},
     "output_type": "execute_result"
    }
   ],
   "source": [
    "np.random.rand(10)"
   ]
  },
  {
   "cell_type": "code",
   "execution_count": 269,
   "id": "39548a19",
   "metadata": {},
   "outputs": [
    {
     "data": {
      "text/plain": [
       "array([1, 6, 3, 8, 0, 7, 5, 8, 8, 4])"
      ]
     },
     "execution_count": 269,
     "metadata": {},
     "output_type": "execute_result"
    }
   ],
   "source": [
    "np.random.randint(0, 10, 10)\n"
   ]
  },
  {
   "cell_type": "code",
   "execution_count": 272,
   "id": "8ed75352",
   "metadata": {},
   "outputs": [
    {
     "data": {
      "text/plain": [
       "array([1, 5, 0, 7, 8, 9, 4, 3, 2, 6])"
      ]
     },
     "execution_count": 272,
     "metadata": {},
     "output_type": "execute_result"
    }
   ],
   "source": [
    "np.random.permutation(10)"
   ]
  },
  {
   "cell_type": "code",
   "execution_count": 273,
   "id": "857c5f76",
   "metadata": {},
   "outputs": [
    {
     "data": {
      "text/plain": [
       "2"
      ]
     },
     "execution_count": 273,
     "metadata": {},
     "output_type": "execute_result"
    }
   ],
   "source": [
    "np.random.choice(10)"
   ]
  },
  {
   "cell_type": "code",
   "execution_count": 274,
   "id": "3768798d",
   "metadata": {},
   "outputs": [
    {
     "data": {
      "text/plain": [
       "array([[5, 7, 5, 9, 8, 6, 1, 2, 7, 8],\n",
       "       [6, 9, 2, 7, 6, 0, 3, 9, 2, 4],\n",
       "       [9, 1, 8, 3, 5, 2, 1, 0, 5, 6]])"
      ]
     },
     "execution_count": 274,
     "metadata": {},
     "output_type": "execute_result"
    }
   ],
   "source": [
    "np.random.seed(2048)\n",
    "a = np.random.choice(10, size=(3,10))\n",
    "a"
   ]
  },
  {
   "cell_type": "code",
   "execution_count": 275,
   "id": "2a58429c",
   "metadata": {},
   "outputs": [
    {
     "data": {
      "text/plain": [
       "array([0, 0, 1, 1, 1, 2, 2, 2, 2, 3, 3, 4, 5, 5, 5, 5, 6, 6, 6, 6, 7, 7,\n",
       "       7, 8, 8, 8, 9, 9, 9, 9])"
      ]
     },
     "execution_count": 275,
     "metadata": {},
     "output_type": "execute_result"
    }
   ],
   "source": [
    "np.sort(a.ravel())"
   ]
  },
  {
   "cell_type": "code",
   "execution_count": 276,
   "id": "0c028727",
   "metadata": {},
   "outputs": [
    {
     "data": {
      "text/plain": [
       "array([[5, 1, 2, 3, 5, 0, 1, 0, 2, 4],\n",
       "       [6, 7, 5, 7, 6, 2, 1, 2, 5, 6],\n",
       "       [9, 9, 8, 9, 8, 6, 3, 9, 7, 8]])"
      ]
     },
     "execution_count": 276,
     "metadata": {},
     "output_type": "execute_result"
    }
   ],
   "source": [
    "a.sort(axis=0)\n",
    "a"
   ]
  },
  {
   "cell_type": "code",
   "execution_count": 277,
   "id": "b194ac9e",
   "metadata": {},
   "outputs": [
    {
     "data": {
      "text/plain": [
       "array([[0, 0, 1, 1, 2, 2, 3, 4, 5, 5],\n",
       "       [1, 2, 2, 5, 5, 6, 6, 6, 7, 7],\n",
       "       [3, 6, 7, 8, 8, 8, 9, 9, 9, 9]])"
      ]
     },
     "execution_count": 277,
     "metadata": {},
     "output_type": "execute_result"
    }
   ],
   "source": [
    "a.sort(axis=1)\n",
    "a"
   ]
  },
  {
   "cell_type": "code",
   "execution_count": 279,
   "id": "72e95284",
   "metadata": {},
   "outputs": [
    {
     "data": {
      "text/plain": [
       "(array([[5, 7, 5, 9, 8, 6, 1, 2, 7, 8],\n",
       "        [6, 9, 2, 7, 6, 0, 3, 9, 2, 4],\n",
       "        [9, 1, 8, 3, 5, 2, 1, 0, 5, 6]]),\n",
       " array([[0, 2, 1, 2, 2, 1, 0, 2, 1, 1],\n",
       "        [1, 0, 0, 1, 1, 2, 2, 0, 2, 2],\n",
       "        [2, 1, 2, 0, 0, 0, 1, 1, 0, 0]], dtype=int64),\n",
       " array([[6, 7, 0, 2, 5, 1, 8, 4, 9, 3],\n",
       "        [5, 2, 8, 6, 9, 0, 4, 3, 1, 7],\n",
       "        [7, 1, 6, 5, 3, 4, 8, 9, 2, 0]], dtype=int64))"
      ]
     },
     "execution_count": 279,
     "metadata": {},
     "output_type": "execute_result"
    }
   ],
   "source": [
    "np.random.seed(2048)\n",
    "a = np.random.choice(10, size=(3,10))\n",
    "\n",
    "a, a.argsort(axis=0), a.argsort(axis=1)\n"
   ]
  },
  {
   "cell_type": "code",
   "execution_count": 280,
   "id": "55edf94c",
   "metadata": {},
   "outputs": [
    {
     "data": {
      "text/plain": [
       "array([0, 1, 2, 3, 4, 5, 6, 7, 8, 9])"
      ]
     },
     "execution_count": 280,
     "metadata": {},
     "output_type": "execute_result"
    }
   ],
   "source": [
    "np.unique(a)"
   ]
  }
 ],
 "metadata": {
  "kernelspec": {
   "display_name": "Python 3 (ipykernel)",
   "language": "python",
   "name": "python3"
  },
  "language_info": {
   "codemirror_mode": {
    "name": "ipython",
    "version": 3
   },
   "file_extension": ".py",
   "mimetype": "text/x-python",
   "name": "python",
   "nbconvert_exporter": "python",
   "pygments_lexer": "ipython3",
   "version": "3.9.12"
  }
 },
 "nbformat": 4,
 "nbformat_minor": 5
}
